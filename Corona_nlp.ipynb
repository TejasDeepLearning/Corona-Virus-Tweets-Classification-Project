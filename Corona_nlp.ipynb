{
  "nbformat": 4,
  "nbformat_minor": 0,
  "metadata": {
    "colab": {
      "name": "Corona nlp.ipynb",
      "provenance": [],
      "mount_file_id": "1ZcGSNrwN7PppVcxNqyUDQ3GX9UWTja_D",
      "authorship_tag": "ABX9TyNlppNnmsndy1BAoqh6Yqyi",
      "include_colab_link": true
    },
    "kernelspec": {
      "name": "python3",
      "display_name": "Python 3"
    },
    "language_info": {
      "name": "python"
    },
    "accelerator": "GPU"
  },
  "cells": [
    {
      "cell_type": "markdown",
      "metadata": {
        "id": "view-in-github",
        "colab_type": "text"
      },
      "source": [
        "<a href=\"https://colab.research.google.com/github/Tj-dev-py/Corona-Virus-Tweets-Classification-Project/blob/main/Corona_nlp.ipynb\" target=\"_parent\"><img src=\"https://colab.research.google.com/assets/colab-badge.svg\" alt=\"Open In Colab\"/></a>"
      ]
    },
    {
      "cell_type": "markdown",
      "metadata": {
        "id": "dB6Gg73IGje2"
      },
      "source": [
        "# Text Classification With Corona Virus Tweets\n",
        "\n",
        "In this project, we will classify tweets about the pandemic based on their sentiment. The tweets are labelled accordingly, and are seperated into five classes: \n",
        "\n",
        "1. Positive\n",
        "2. Negative\n",
        "3. Neutral\n",
        "4. Extremely Positive\n",
        "5. Extremely Negative\n",
        "\n",
        "The [data](https://www.kaggle.com/datatattle/covid-19-nlp-text-classification) is stored as a train and test set in csv files. We'll go ahead and load it into our python environment using the libraries/dependencies required to process text data. "
      ]
    },
    {
      "cell_type": "markdown",
      "metadata": {
        "id": "_rcru7hgT7Oe"
      },
      "source": [
        "## Load Libraries"
      ]
    },
    {
      "cell_type": "code",
      "metadata": {
        "id": "6WcUCKE1T6wu"
      },
      "source": [
        "# Import  libraries\n",
        "import numpy as np\n",
        "import pandas as pd\n",
        "\n",
        "import nltk\n",
        "from nltk.corpus import stopwords\n",
        "from nltk.stem.porter import PorterStemmer\n",
        "from wordcloud import WordCloud, STOPWORDS\n",
        "from nltk.stem import WordNetLemmatizer\n",
        "from nltk.tokenize import word_tokenize, sent_tokenize\n",
        "from bs4 import BeautifulSoup\n",
        "import re, string, unicodedata\n",
        "from keras.preprocessing import text, sequence\n",
        "from sklearn.metrics import classification_report, confusion_matrix, accuracy_score\n",
        "from sklearn.model_selection import train_test_split\n",
        "from string import punctuation\n",
        "import keras\n",
        "from keras.models import Sequential\n",
        "import tensorflow as tf\n",
        "\n",
        "import matplotlib.pyplot as plt\n",
        "import seaborn as sns"
      ],
      "execution_count": 1,
      "outputs": []
    },
    {
      "cell_type": "markdown",
      "metadata": {
        "id": "_ccTbvgLUhmc"
      },
      "source": [
        "## Setup Input Pipeline\n",
        "\n",
        "The Corona tweets dataset is a Multiclass Classification dataset. We'll get a notion of how it looks by reading it into a dataframe with Pandas."
      ]
    },
    {
      "cell_type": "code",
      "metadata": {
        "colab": {
          "base_uri": "https://localhost:8080/",
          "height": 510
        },
        "id": "vQIAyuF4Uell",
        "outputId": "ed7fe786-7bba-4c0e-b1db-0eb953c083bb"
      },
      "source": [
        "# Read the files\n",
        "# use python as the engine to avoid any encoding errors\n",
        "train_dataset, test_dataset = pd.read_csv('/content/drive/MyDrive/Corona NLP Dataset/Corona_NLP_train.csv', \n",
        "                                          engine='python' ), \\\n",
        "                                          pd.read_csv('/content/drive/MyDrive/Corona NLP Dataset/Corona_NLP_test.csv', \n",
        "                                          engine='python')\n",
        "\n",
        "# Display them\n",
        "from IPython.display import display\n",
        "\n",
        "display(train_dataset.head(), train_dataset.shape,\n",
        "        test_dataset.head(), test_dataset.shape)"
      ],
      "execution_count": 2,
      "outputs": [
        {
          "output_type": "display_data",
          "data": {
            "text/html": [
              "<div>\n",
              "<style scoped>\n",
              "    .dataframe tbody tr th:only-of-type {\n",
              "        vertical-align: middle;\n",
              "    }\n",
              "\n",
              "    .dataframe tbody tr th {\n",
              "        vertical-align: top;\n",
              "    }\n",
              "\n",
              "    .dataframe thead th {\n",
              "        text-align: right;\n",
              "    }\n",
              "</style>\n",
              "<table border=\"1\" class=\"dataframe\">\n",
              "  <thead>\n",
              "    <tr style=\"text-align: right;\">\n",
              "      <th></th>\n",
              "      <th>UserName</th>\n",
              "      <th>ScreenName</th>\n",
              "      <th>Location</th>\n",
              "      <th>TweetAt</th>\n",
              "      <th>OriginalTweet</th>\n",
              "      <th>Sentiment</th>\n",
              "    </tr>\n",
              "  </thead>\n",
              "  <tbody>\n",
              "    <tr>\n",
              "      <th>0</th>\n",
              "      <td>3799</td>\n",
              "      <td>48751</td>\n",
              "      <td>London</td>\n",
              "      <td>16-03-2020</td>\n",
              "      <td>@MeNyrbie @Phil_Gahan @Chrisitv https://t.co/i...</td>\n",
              "      <td>Neutral</td>\n",
              "    </tr>\n",
              "    <tr>\n",
              "      <th>1</th>\n",
              "      <td>3800</td>\n",
              "      <td>48752</td>\n",
              "      <td>UK</td>\n",
              "      <td>16-03-2020</td>\n",
              "      <td>advice Talk to your neighbours family to excha...</td>\n",
              "      <td>Positive</td>\n",
              "    </tr>\n",
              "    <tr>\n",
              "      <th>2</th>\n",
              "      <td>3801</td>\n",
              "      <td>48753</td>\n",
              "      <td>Vagabonds</td>\n",
              "      <td>16-03-2020</td>\n",
              "      <td>Coronavirus Australia: Woolworths to give elde...</td>\n",
              "      <td>Positive</td>\n",
              "    </tr>\n",
              "    <tr>\n",
              "      <th>3</th>\n",
              "      <td>3802</td>\n",
              "      <td>48754</td>\n",
              "      <td>NaN</td>\n",
              "      <td>16-03-2020</td>\n",
              "      <td>My food stock is not the only one which is emp...</td>\n",
              "      <td>Positive</td>\n",
              "    </tr>\n",
              "    <tr>\n",
              "      <th>4</th>\n",
              "      <td>3803</td>\n",
              "      <td>48755</td>\n",
              "      <td>NaN</td>\n",
              "      <td>16-03-2020</td>\n",
              "      <td>Me, ready to go at supermarket during the #COV...</td>\n",
              "      <td>Extremely Negative</td>\n",
              "    </tr>\n",
              "  </tbody>\n",
              "</table>\n",
              "</div>"
            ],
            "text/plain": [
              "   UserName  ...           Sentiment\n",
              "0      3799  ...             Neutral\n",
              "1      3800  ...            Positive\n",
              "2      3801  ...            Positive\n",
              "3      3802  ...            Positive\n",
              "4      3803  ...  Extremely Negative\n",
              "\n",
              "[5 rows x 6 columns]"
            ]
          },
          "metadata": {}
        },
        {
          "output_type": "display_data",
          "data": {
            "text/plain": [
              "(41157, 6)"
            ]
          },
          "metadata": {}
        },
        {
          "output_type": "display_data",
          "data": {
            "text/html": [
              "<div>\n",
              "<style scoped>\n",
              "    .dataframe tbody tr th:only-of-type {\n",
              "        vertical-align: middle;\n",
              "    }\n",
              "\n",
              "    .dataframe tbody tr th {\n",
              "        vertical-align: top;\n",
              "    }\n",
              "\n",
              "    .dataframe thead th {\n",
              "        text-align: right;\n",
              "    }\n",
              "</style>\n",
              "<table border=\"1\" class=\"dataframe\">\n",
              "  <thead>\n",
              "    <tr style=\"text-align: right;\">\n",
              "      <th></th>\n",
              "      <th>UserName</th>\n",
              "      <th>ScreenName</th>\n",
              "      <th>Location</th>\n",
              "      <th>TweetAt</th>\n",
              "      <th>OriginalTweet</th>\n",
              "      <th>Sentiment</th>\n",
              "    </tr>\n",
              "  </thead>\n",
              "  <tbody>\n",
              "    <tr>\n",
              "      <th>0</th>\n",
              "      <td>1</td>\n",
              "      <td>44953</td>\n",
              "      <td>NYC</td>\n",
              "      <td>02-03-2020</td>\n",
              "      <td>TRENDING: New Yorkers encounter empty supermar...</td>\n",
              "      <td>Extremely Negative</td>\n",
              "    </tr>\n",
              "    <tr>\n",
              "      <th>1</th>\n",
              "      <td>2</td>\n",
              "      <td>44954</td>\n",
              "      <td>Seattle, WA</td>\n",
              "      <td>02-03-2020</td>\n",
              "      <td>When I couldn't find hand sanitizer at Fred Me...</td>\n",
              "      <td>Positive</td>\n",
              "    </tr>\n",
              "    <tr>\n",
              "      <th>2</th>\n",
              "      <td>3</td>\n",
              "      <td>44955</td>\n",
              "      <td>NaN</td>\n",
              "      <td>02-03-2020</td>\n",
              "      <td>Find out how you can protect yourself and love...</td>\n",
              "      <td>Extremely Positive</td>\n",
              "    </tr>\n",
              "    <tr>\n",
              "      <th>3</th>\n",
              "      <td>4</td>\n",
              "      <td>44956</td>\n",
              "      <td>Chicagoland</td>\n",
              "      <td>02-03-2020</td>\n",
              "      <td>#Panic buying hits #NewYork City as anxious sh...</td>\n",
              "      <td>Negative</td>\n",
              "    </tr>\n",
              "    <tr>\n",
              "      <th>4</th>\n",
              "      <td>5</td>\n",
              "      <td>44957</td>\n",
              "      <td>Melbourne, Victoria</td>\n",
              "      <td>03-03-2020</td>\n",
              "      <td>#toiletpaper #dunnypaper #coronavirus #coronav...</td>\n",
              "      <td>Neutral</td>\n",
              "    </tr>\n",
              "  </tbody>\n",
              "</table>\n",
              "</div>"
            ],
            "text/plain": [
              "   UserName  ...           Sentiment\n",
              "0         1  ...  Extremely Negative\n",
              "1         2  ...            Positive\n",
              "2         3  ...  Extremely Positive\n",
              "3         4  ...            Negative\n",
              "4         5  ...             Neutral\n",
              "\n",
              "[5 rows x 6 columns]"
            ]
          },
          "metadata": {}
        },
        {
          "output_type": "display_data",
          "data": {
            "text/plain": [
              "(3798, 6)"
            ]
          },
          "metadata": {}
        }
      ]
    },
    {
      "cell_type": "markdown",
      "metadata": {
        "id": "lSvkc5IgkLJ-"
      },
      "source": [
        "## Combine the data"
      ]
    },
    {
      "cell_type": "code",
      "metadata": {
        "colab": {
          "base_uri": "https://localhost:8080/",
          "height": 204
        },
        "id": "fjKVEXB3kK9b",
        "outputId": "6ab8c8a7-061c-4675-fbc6-851ceb7820c4"
      },
      "source": [
        "data = pd.concat([train_dataset, test_dataset], axis=0)\n",
        "data.head()"
      ],
      "execution_count": 3,
      "outputs": [
        {
          "output_type": "execute_result",
          "data": {
            "text/html": [
              "<div>\n",
              "<style scoped>\n",
              "    .dataframe tbody tr th:only-of-type {\n",
              "        vertical-align: middle;\n",
              "    }\n",
              "\n",
              "    .dataframe tbody tr th {\n",
              "        vertical-align: top;\n",
              "    }\n",
              "\n",
              "    .dataframe thead th {\n",
              "        text-align: right;\n",
              "    }\n",
              "</style>\n",
              "<table border=\"1\" class=\"dataframe\">\n",
              "  <thead>\n",
              "    <tr style=\"text-align: right;\">\n",
              "      <th></th>\n",
              "      <th>UserName</th>\n",
              "      <th>ScreenName</th>\n",
              "      <th>Location</th>\n",
              "      <th>TweetAt</th>\n",
              "      <th>OriginalTweet</th>\n",
              "      <th>Sentiment</th>\n",
              "    </tr>\n",
              "  </thead>\n",
              "  <tbody>\n",
              "    <tr>\n",
              "      <th>0</th>\n",
              "      <td>3799</td>\n",
              "      <td>48751</td>\n",
              "      <td>London</td>\n",
              "      <td>16-03-2020</td>\n",
              "      <td>@MeNyrbie @Phil_Gahan @Chrisitv https://t.co/i...</td>\n",
              "      <td>Neutral</td>\n",
              "    </tr>\n",
              "    <tr>\n",
              "      <th>1</th>\n",
              "      <td>3800</td>\n",
              "      <td>48752</td>\n",
              "      <td>UK</td>\n",
              "      <td>16-03-2020</td>\n",
              "      <td>advice Talk to your neighbours family to excha...</td>\n",
              "      <td>Positive</td>\n",
              "    </tr>\n",
              "    <tr>\n",
              "      <th>2</th>\n",
              "      <td>3801</td>\n",
              "      <td>48753</td>\n",
              "      <td>Vagabonds</td>\n",
              "      <td>16-03-2020</td>\n",
              "      <td>Coronavirus Australia: Woolworths to give elde...</td>\n",
              "      <td>Positive</td>\n",
              "    </tr>\n",
              "    <tr>\n",
              "      <th>3</th>\n",
              "      <td>3802</td>\n",
              "      <td>48754</td>\n",
              "      <td>NaN</td>\n",
              "      <td>16-03-2020</td>\n",
              "      <td>My food stock is not the only one which is emp...</td>\n",
              "      <td>Positive</td>\n",
              "    </tr>\n",
              "    <tr>\n",
              "      <th>4</th>\n",
              "      <td>3803</td>\n",
              "      <td>48755</td>\n",
              "      <td>NaN</td>\n",
              "      <td>16-03-2020</td>\n",
              "      <td>Me, ready to go at supermarket during the #COV...</td>\n",
              "      <td>Extremely Negative</td>\n",
              "    </tr>\n",
              "  </tbody>\n",
              "</table>\n",
              "</div>"
            ],
            "text/plain": [
              "   UserName  ...           Sentiment\n",
              "0      3799  ...             Neutral\n",
              "1      3800  ...            Positive\n",
              "2      3801  ...            Positive\n",
              "3      3802  ...            Positive\n",
              "4      3803  ...  Extremely Negative\n",
              "\n",
              "[5 rows x 6 columns]"
            ]
          },
          "metadata": {},
          "execution_count": 3
        }
      ]
    },
    {
      "cell_type": "code",
      "metadata": {
        "colab": {
          "base_uri": "https://localhost:8080/"
        },
        "id": "qpE0v2REkWjs",
        "outputId": "580887b7-078e-4a07-e80f-c9b455f870d9"
      },
      "source": [
        "data.shape"
      ],
      "execution_count": 4,
      "outputs": [
        {
          "output_type": "execute_result",
          "data": {
            "text/plain": [
              "(44955, 6)"
            ]
          },
          "metadata": {},
          "execution_count": 4
        }
      ]
    },
    {
      "cell_type": "markdown",
      "metadata": {
        "id": "FnFDWibJj04b"
      },
      "source": [
        "## Find Missing Values"
      ]
    },
    {
      "cell_type": "code",
      "metadata": {
        "colab": {
          "base_uri": "https://localhost:8080/"
        },
        "id": "cg-2eiVTjuuf",
        "outputId": "d0dd5db9-8e24-4a06-def1-72e56d614aa6"
      },
      "source": [
        "data.isnull().sum()"
      ],
      "execution_count": 5,
      "outputs": [
        {
          "output_type": "execute_result",
          "data": {
            "text/plain": [
              "UserName            0\n",
              "ScreenName          0\n",
              "Location         9424\n",
              "TweetAt             0\n",
              "OriginalTweet       0\n",
              "Sentiment           0\n",
              "dtype: int64"
            ]
          },
          "metadata": {},
          "execution_count": 5
        }
      ]
    },
    {
      "cell_type": "markdown",
      "metadata": {
        "id": "222MEbZ-j-uc"
      },
      "source": [
        "## Drop duplicate data and missing values"
      ]
    },
    {
      "cell_type": "code",
      "metadata": {
        "id": "T-z1kBJ5j8v_"
      },
      "source": [
        "data.drop_duplicates(inplace=True)\n",
        "data.dropna(inplace=True)"
      ],
      "execution_count": 6,
      "outputs": []
    },
    {
      "cell_type": "code",
      "metadata": {
        "colab": {
          "base_uri": "https://localhost:8080/"
        },
        "id": "iuJuuLo6keI0",
        "outputId": "b63458b9-1c1b-4c2b-b240-35f98ac167ae"
      },
      "source": [
        "data.isnull().sum()"
      ],
      "execution_count": 7,
      "outputs": [
        {
          "output_type": "execute_result",
          "data": {
            "text/plain": [
              "UserName         0\n",
              "ScreenName       0\n",
              "Location         0\n",
              "TweetAt          0\n",
              "OriginalTweet    0\n",
              "Sentiment        0\n",
              "dtype: int64"
            ]
          },
          "metadata": {},
          "execution_count": 7
        }
      ]
    },
    {
      "cell_type": "code",
      "metadata": {
        "colab": {
          "base_uri": "https://localhost:8080/"
        },
        "id": "_sXSvadCkjqZ",
        "outputId": "7a7250a3-ed7a-4d2e-e283-bf652702f07c"
      },
      "source": [
        "data.duplicated().sum()"
      ],
      "execution_count": 8,
      "outputs": [
        {
          "output_type": "execute_result",
          "data": {
            "text/plain": [
              "0"
            ]
          },
          "metadata": {},
          "execution_count": 8
        }
      ]
    },
    {
      "cell_type": "code",
      "metadata": {
        "colab": {
          "base_uri": "https://localhost:8080/",
          "height": 346
        },
        "id": "_GyvjkvjknwY",
        "outputId": "363efe98-c7d5-47c4-b26c-dab6f31f2dab"
      },
      "source": [
        "# checking the distribution of the classes\n",
        "\n",
        "sns.countplot(x=data['Sentiment'])\n",
        "plt.xticks(rotation=45)\n",
        "plt.show()"
      ],
      "execution_count": 9,
      "outputs": [
        {
          "output_type": "display_data",
          "data": {
            "image/png": "[encoded data removed]",
            "text/plain": [
              "<Figure size 432x288 with 1 Axes>"
            ]
          },
          "metadata": {
            "needs_background": "light"
          }
        }
      ]
    },
    {
      "cell_type": "markdown",
      "metadata": {
        "id": "VpdbXGt2lKZh"
      },
      "source": [
        "## Reducing the number of classes\n",
        "\n",
        "Even though there are five classes ion the data, we'll reduce them to three by mapping the extremely positive and negative classes to just positive and negative, to keep things as simple as possible."
      ]
    },
    {
      "cell_type": "code",
      "metadata": {
        "colab": {
          "base_uri": "https://localhost:8080/"
        },
        "id": "5nJlT0FmlEBe",
        "outputId": "40e74d47-8d1c-48c8-ef6d-9d2360399239"
      },
      "source": [
        "data.Sentiment[data.Sentiment == 'Extremely Positive'] = 'Positive'"
      ],
      "execution_count": 10,
      "outputs": [
        {
          "output_type": "stream",
          "name": "stderr",
          "text": [
            "/usr/local/lib/python3.7/dist-packages/ipykernel_launcher.py:1: SettingWithCopyWarning: \n",
            "A value is trying to be set on a copy of a slice from a DataFrame\n",
            "\n",
            "See the caveats in the documentation: https://pandas.pydata.org/pandas-docs/stable/user_guide/indexing.html#returning-a-view-versus-a-copy\n",
            "  \"\"\"Entry point for launching an IPython kernel.\n"
          ]
        }
      ]
    },
    {
      "cell_type": "code",
      "metadata": {
        "colab": {
          "base_uri": "https://localhost:8080/"
        },
        "id": "2_mtZVTZlwkb",
        "outputId": "26744e37-2a9e-4cd4-d216-b16190aeb797"
      },
      "source": [
        "data.Sentiment[data.Sentiment == 'Extremely Negative'] = 'Negative'"
      ],
      "execution_count": 11,
      "outputs": [
        {
          "output_type": "stream",
          "name": "stderr",
          "text": [
            "/usr/local/lib/python3.7/dist-packages/ipykernel_launcher.py:1: SettingWithCopyWarning: \n",
            "A value is trying to be set on a copy of a slice from a DataFrame\n",
            "\n",
            "See the caveats in the documentation: https://pandas.pydata.org/pandas-docs/stable/user_guide/indexing.html#returning-a-view-versus-a-copy\n",
            "  \"\"\"Entry point for launching an IPython kernel.\n"
          ]
        }
      ]
    },
    {
      "cell_type": "code",
      "metadata": {
        "colab": {
          "base_uri": "https://localhost:8080/",
          "height": 0
        },
        "id": "f3X2wbRcl5e4",
        "outputId": "29996bdf-017b-4633-df37-4a7d2ba45ac9"
      },
      "source": [
        "sns.countplot(x=data['Sentiment'])\n",
        "plt.show()"
      ],
      "execution_count": 12,
      "outputs": [
        {
          "output_type": "display_data",
          "data": {
            "image/png": "[encoded data removed]",
            "text/plain": [
              "<Figure size 432x288 with 1 Axes>"
            ]
          },
          "metadata": {
            "needs_background": "light"
          }
        }
      ]
    },
    {
      "cell_type": "markdown",
      "metadata": {
        "id": "qTCofVhimFFp"
      },
      "source": [
        "## Preprocess text data\n",
        "\n",
        "We remove things like urls/links, stopwords, hashtags, digits, html tags, numbers and so on."
      ]
    },
    {
      "cell_type": "code",
      "metadata": {
        "colab": {
          "base_uri": "https://localhost:8080/"
        },
        "id": "f_jjcF5Amar8",
        "outputId": "ed177115-ba61-4d39-c5c6-bc02f475e116"
      },
      "source": [
        "nltk.download('stopwords')"
      ],
      "execution_count": 13,
      "outputs": [
        {
          "output_type": "stream",
          "name": "stdout",
          "text": [
            "[nltk_data] Downloading package stopwords to /root/nltk_data...\n",
            "[nltk_data]   Unzipping corpora/stopwords.zip.\n"
          ]
        },
        {
          "output_type": "execute_result",
          "data": {
            "text/plain": [
              "True"
            ]
          },
          "metadata": {},
          "execution_count": 13
        }
      ]
    },
    {
      "cell_type": "code",
      "metadata": {
        "id": "-0egqz8SmCmE"
      },
      "source": [
        "# load stop words\n",
        "stop_word = stopwords.words('english')"
      ],
      "execution_count": 14,
      "outputs": []
    },
    {
      "cell_type": "code",
      "metadata": {
        "id": "Tjgq1ht3mYB9"
      },
      "source": [
        "# our clean function\n",
        "\n",
        "def clean(text):\n",
        "  # remove urls\n",
        "  text = re.sub(r'http\\S+', \" \", text)\n",
        "\n",
        "  # remove mentions\n",
        "  text = re.sub(r'@\\w+', ' ', text)\n",
        "\n",
        "  # remove hashtags\n",
        "  text = re.sub(r'#\\w+', ' ', text)\n",
        "\n",
        "  # remove digits\n",
        "  text = re.sub(r'\\d+', ' ', text)\n",
        "\n",
        "  # remove html tags\n",
        "  text = re.sub(r'<.*?>', ' ', text)\n",
        "\n",
        "  # remove stop words\n",
        "  text = text.split()\n",
        "  text = \" \".join([word for word in text if not word in stop_word])\n",
        "\n",
        "  return text"
      ],
      "execution_count": 15,
      "outputs": []
    },
    {
      "cell_type": "code",
      "metadata": {
        "id": "4vQtOLQxnV0S"
      },
      "source": [
        "data['OriginalTweet'] = data['OriginalTweet'].apply(lambda x: clean(x))"
      ],
      "execution_count": 16,
      "outputs": []
    },
    {
      "cell_type": "code",
      "metadata": {
        "colab": {
          "base_uri": "https://localhost:8080/"
        },
        "id": "pw21iqJIngzK",
        "outputId": "47f2c90a-5332-449c-be88-6d72990cc8bf"
      },
      "source": [
        "data['OriginalTweet'].head()"
      ],
      "execution_count": 17,
      "outputs": [
        {
          "output_type": "execute_result",
          "data": {
            "text/plain": [
              "0                                                     \n",
              "1    advice Talk neighbours family exchange phone n...\n",
              "2    Coronavirus Australia: Woolworths give elderly...\n",
              "5    As news regions first confirmed COVID- case c...\n",
              "6    Cashier grocery store sharing insights To prov...\n",
              "Name: OriginalTweet, dtype: object"
            ]
          },
          "metadata": {},
          "execution_count": 17
        }
      ]
    },
    {
      "cell_type": "markdown",
      "metadata": {
        "id": "Bz0n6y69no0B"
      },
      "source": [
        "## Taking useful columns\n",
        "\n",
        "Taking the OriginalTweet and Sentiment columns for our analysis."
      ]
    },
    {
      "cell_type": "code",
      "metadata": {
        "id": "r7NQ650jnl2C"
      },
      "source": [
        "useful_cols = ['OriginalTweet', 'Sentiment']\n",
        "\n",
        "data = data[useful_cols]"
      ],
      "execution_count": 18,
      "outputs": []
    },
    {
      "cell_type": "markdown",
      "metadata": {
        "id": "EH2iFARxok-u"
      },
      "source": [
        "## Encoding Sentiment Column\n",
        "\n",
        "mapping the values in sentiment column to integers representing the different classes."
      ]
    },
    {
      "cell_type": "code",
      "metadata": {
        "colab": {
          "base_uri": "https://localhost:8080/",
          "height": 0
        },
        "id": "fHGkHObXod_A",
        "outputId": "c00e4a7a-aac2-4bc0-ddd5-0177ab45225b"
      },
      "source": [
        "from sklearn.preprocessing import LabelEncoder\n",
        "encoder = LabelEncoder()\n",
        "data.Sentiment = encoder.fit_transform(data.Sentiment)\n",
        "\n",
        "data.head()"
      ],
      "execution_count": 19,
      "outputs": [
        {
          "output_type": "execute_result",
          "data": {
            "text/html": [
              "<div>\n",
              "<style scoped>\n",
              "    .dataframe tbody tr th:only-of-type {\n",
              "        vertical-align: middle;\n",
              "    }\n",
              "\n",
              "    .dataframe tbody tr th {\n",
              "        vertical-align: top;\n",
              "    }\n",
              "\n",
              "    .dataframe thead th {\n",
              "        text-align: right;\n",
              "    }\n",
              "</style>\n",
              "<table border=\"1\" class=\"dataframe\">\n",
              "  <thead>\n",
              "    <tr style=\"text-align: right;\">\n",
              "      <th></th>\n",
              "      <th>OriginalTweet</th>\n",
              "      <th>Sentiment</th>\n",
              "    </tr>\n",
              "  </thead>\n",
              "  <tbody>\n",
              "    <tr>\n",
              "      <th>0</th>\n",
              "      <td></td>\n",
              "      <td>1</td>\n",
              "    </tr>\n",
              "    <tr>\n",
              "      <th>1</th>\n",
              "      <td>advice Talk neighbours family exchange phone n...</td>\n",
              "      <td>2</td>\n",
              "    </tr>\n",
              "    <tr>\n",
              "      <th>2</th>\n",
              "      <td>Coronavirus Australia: Woolworths give elderly...</td>\n",
              "      <td>2</td>\n",
              "    </tr>\n",
              "    <tr>\n",
              "      <th>5</th>\n",
              "      <td>As news regions first confirmed COVID- case c...</td>\n",
              "      <td>2</td>\n",
              "    </tr>\n",
              "    <tr>\n",
              "      <th>6</th>\n",
              "      <td>Cashier grocery store sharing insights To prov...</td>\n",
              "      <td>2</td>\n",
              "    </tr>\n",
              "  </tbody>\n",
              "</table>\n",
              "</div>"
            ],
            "text/plain": [
              "                                       OriginalTweet  Sentiment\n",
              "0                                                             1\n",
              "1  advice Talk neighbours family exchange phone n...          2\n",
              "2  Coronavirus Australia: Woolworths give elderly...          2\n",
              "5  As news regions first confirmed COVID- case c...          2\n",
              "6  Cashier grocery store sharing insights To prov...          2"
            ]
          },
          "metadata": {},
          "execution_count": 19
        }
      ]
    },
    {
      "cell_type": "markdown",
      "metadata": {
        "id": "h_MpFFylpr16"
      },
      "source": [
        "## Split into train and test sets\n",
        "\n",
        "Shuffle The Data and split it back into train and test sets."
      ]
    },
    {
      "cell_type": "code",
      "metadata": {
        "id": "-ZQMDp1EpPHi"
      },
      "source": [
        "from sklearn.model_selection import train_test_split\n",
        "\n",
        "X = data.OriginalTweet.copy()\n",
        "y = data.Sentiment.copy()\n",
        "\n",
        "X_train, X_test, y_train, y_test = train_test_split(X, \n",
        "                                                    y, \n",
        "                                                    random_state=42,\n",
        "                                                    train_size=.9,\n",
        "                                                    )"
      ],
      "execution_count": 20,
      "outputs": []
    },
    {
      "cell_type": "code",
      "metadata": {
        "colab": {
          "base_uri": "https://localhost:8080/",
          "height": 0
        },
        "id": "gHUKINc4qbJA",
        "outputId": "cc3de0c8-d278-4140-b1af-04129fd196b4"
      },
      "source": [
        "display(X_train.head(), X_train.shape,\n",
        "        X_test.head(), X_test.shape,\n",
        "        y_train.head(), y_train.shape,\n",
        "        y_test.head(), y_test.shape, \n",
        ")"
      ],
      "execution_count": 21,
      "outputs": [
        {
          "output_type": "display_data",
          "data": {
            "text/plain": [
              "31257    Amen... When going grocery store, taking walk ...\n",
              "39810    One country's largest pork processing faciliti...\n",
              "7778     Does supermarket vulnerable hour include group...\n",
              "10333    Consequences raising prices unfairly pandemic?...\n",
              "26882    Congratulations- look forward working consider...\n",
              "Name: OriginalTweet, dtype: object"
            ]
          },
          "metadata": {}
        },
        {
          "output_type": "display_data",
          "data": {
            "text/plain": [
              "(31977,)"
            ]
          },
          "metadata": {}
        },
        {
          "output_type": "display_data",
          "data": {
            "text/plain": [
              "98        Spiking prices state emergency crime, REPORT IT:\n",
              "12412    Last night two Dumb Things done neighborhood: ...\n",
              "27393               Will get paid? [Daily Recap] $VNQ $REM\n",
              "25046    worst customer service. Sold yo mother phone w...\n",
              "23524    The supermarket lost charm place stay connecte...\n",
              "Name: OriginalTweet, dtype: object"
            ]
          },
          "metadata": {}
        },
        {
          "output_type": "display_data",
          "data": {
            "text/plain": [
              "(3554,)"
            ]
          },
          "metadata": {}
        },
        {
          "output_type": "display_data",
          "data": {
            "text/plain": [
              "31257    1\n",
              "39810    0\n",
              "7778     0\n",
              "10333    2\n",
              "26882    2\n",
              "Name: Sentiment, dtype: int64"
            ]
          },
          "metadata": {}
        },
        {
          "output_type": "display_data",
          "data": {
            "text/plain": [
              "(31977,)"
            ]
          },
          "metadata": {}
        },
        {
          "output_type": "display_data",
          "data": {
            "text/plain": [
              "98       0\n",
              "12412    0\n",
              "27393    1\n",
              "25046    0\n",
              "23524    2\n",
              "Name: Sentiment, dtype: int64"
            ]
          },
          "metadata": {}
        },
        {
          "output_type": "display_data",
          "data": {
            "text/plain": [
              "(3554,)"
            ]
          },
          "metadata": {}
        }
      ]
    },
    {
      "cell_type": "markdown",
      "metadata": {
        "id": "mOErsZHnrOha"
      },
      "source": [
        "## Maximum Length of Sequence\n",
        "\n",
        "finding the longest sentence in the training data and test data, to adjust the parameters in preprocessing. "
      ]
    },
    {
      "cell_type": "code",
      "metadata": {
        "colab": {
          "base_uri": "https://localhost:8080/"
        },
        "id": "4LHccNxYrBzZ",
        "outputId": "d483fef0-9c32-4d5d-d5b5-d58fd88946c5"
      },
      "source": [
        "np.max(X_train.apply(lambda x :len(x)))"
      ],
      "execution_count": 22,
      "outputs": [
        {
          "output_type": "execute_result",
          "data": {
            "text/plain": [
              "286"
            ]
          },
          "metadata": {},
          "execution_count": 22
        }
      ]
    },
    {
      "cell_type": "code",
      "metadata": {
        "colab": {
          "base_uri": "https://localhost:8080/"
        },
        "id": "k8pmGsA8rdx0",
        "outputId": "d9c4b9df-67eb-4810-f96e-c4da79cdb441"
      },
      "source": [
        "np.max(X_test.apply(lambda x :len(x)))"
      ],
      "execution_count": 23,
      "outputs": [
        {
          "output_type": "execute_result",
          "data": {
            "text/plain": [
              "258"
            ]
          },
          "metadata": {},
          "execution_count": 23
        }
      ]
    },
    {
      "cell_type": "code",
      "metadata": {
        "id": "UKx0xpWHsl10"
      },
      "source": [
        "max_len = np.max(X_train.apply(lambda x :len(x)))"
      ],
      "execution_count": 24,
      "outputs": []
    },
    {
      "cell_type": "markdown",
      "metadata": {
        "id": "UrcFREG1r0iz"
      },
      "source": [
        "## Create Tokenizer\n",
        "\n",
        "tokenizers are used to map words to integers to feed into our neural network."
      ]
    },
    {
      "cell_type": "code",
      "metadata": {
        "id": "xZFPwuzrsH4b"
      },
      "source": [
        "from tensorflow.keras.preprocessing.text import Tokenizer\n",
        "from tensorflow.keras.preprocessing.sequence import pad_sequences\n",
        "\n",
        "import tensorflow as tf"
      ],
      "execution_count": 25,
      "outputs": []
    },
    {
      "cell_type": "code",
      "metadata": {
        "id": "TXkAR2eorxvZ"
      },
      "source": [
        "tokenizer = Tokenizer()"
      ],
      "execution_count": 26,
      "outputs": []
    },
    {
      "cell_type": "code",
      "metadata": {
        "id": "7CueECGjsUSw"
      },
      "source": [
        "tokenizer.fit_on_texts(X_train)\n",
        "vocab_length = len(tokenizer.word_index) + 1\n",
        "\n",
        "X_train = tokenizer.texts_to_sequences(X_train)\n",
        "X_test = tokenizer.texts_to_sequences(X_test)\n",
        "\n",
        "X_train = pad_sequences(X_train, maxlen=max_len, padding='post')\n",
        "X_test = pad_sequences(X_test, maxlen=max_len, padding='post')"
      ],
      "execution_count": 27,
      "outputs": []
    },
    {
      "cell_type": "code",
      "metadata": {
        "colab": {
          "base_uri": "https://localhost:8080/"
        },
        "id": "-7dOsEuOswmv",
        "outputId": "58a128e3-aca0-4226-c335-6ac0747e6efc"
      },
      "source": [
        "print(\"Vocab length:\", vocab_length)\n",
        "print(\"Max sequence length:\", max_len)"
      ],
      "execution_count": 28,
      "outputs": [
        {
          "output_type": "stream",
          "name": "stdout",
          "text": [
            "Vocab length: 31121\n",
            "Max sequence length: 286\n"
          ]
        }
      ]
    },
    {
      "cell_type": "code",
      "metadata": {
        "id": "3MKh9JqxtXSR"
      },
      "source": [
        "# set embedding dimension\n",
        "embedding_dim = 16"
      ],
      "execution_count": 29,
      "outputs": []
    },
    {
      "cell_type": "markdown",
      "metadata": {
        "id": "koPHUBoYtkh3"
      },
      "source": [
        "## Create Model"
      ]
    },
    {
      "cell_type": "code",
      "metadata": {
        "id": "MJ5t3w-XtgUo"
      },
      "source": [
        "model = tf.keras.Sequential([\n",
        "    tf.keras.layers.Embedding(vocab_length, embedding_dim, input_length=max_len),\n",
        "    tf.keras.layers.Bidirectional(tf.keras.layers.GRU(256, return_sequences=True)),\n",
        "    tf.keras.layers.GlobalAveragePooling1D(),\n",
        "    tf.keras.layers.Dense(64, activation='relu'),\n",
        "    tf.keras.layers.Dropout(0.4),\n",
        "    tf.keras.layers.Dense(3, activation='softmax')\n",
        "])\n",
        "model.compile(loss='categorical_crossentropy',optimizer=\"adam\",metrics=['accuracy'])"
      ],
      "execution_count": 30,
      "outputs": []
    },
    {
      "cell_type": "code",
      "metadata": {
        "id": "TO1_mAVGvTXD"
      },
      "source": [
        "# choose between callbacks\n",
        "\n",
        "reduce_lr = tf.keras.callbacks.ReduceLROnPlateau(\n",
        "    monitor=\"val_loss\",\n",
        "    factor=0.1,\n",
        "    patience=3,\n",
        "    verbose=1,\n",
        "    mode=\"auto\",\n",
        "    min_delta=0.01,\n",
        ")\n",
        "\n",
        "early_stoppping = tf.keras.callbacks.EarlyStopping(\n",
        "    monitor=\"val_loss\",\n",
        "    min_delta=.01,\n",
        "    patience=3,\n",
        "    verbose=1,\n",
        "    mode=\"auto\",\n",
        "    restore_best_weights=True,\n",
        ")"
      ],
      "execution_count": 31,
      "outputs": []
    },
    {
      "cell_type": "code",
      "metadata": {
        "colab": {
          "base_uri": "https://localhost:8080/"
        },
        "id": "KLHokXmLv5P_",
        "outputId": "ac6ece18-2b63-41fd-da1b-3900576e8267"
      },
      "source": [
        "model.summary()"
      ],
      "execution_count": 32,
      "outputs": [
        {
          "output_type": "stream",
          "name": "stdout",
          "text": [
            "Model: \"sequential\"\n",
            "_________________________________________________________________\n",
            "Layer (type)                 Output Shape              Param #   \n",
            "=================================================================\n",
            "embedding (Embedding)        (None, 286, 16)           497936    \n",
            "_________________________________________________________________\n",
            "bidirectional (Bidirectional (None, 286, 512)          420864    \n",
            "_________________________________________________________________\n",
            "global_average_pooling1d (Gl (None, 512)               0         \n",
            "_________________________________________________________________\n",
            "dense (Dense)                (None, 64)                32832     \n",
            "_________________________________________________________________\n",
            "dropout (Dropout)            (None, 64)                0         \n",
            "_________________________________________________________________\n",
            "dense_1 (Dense)              (None, 3)                 195       \n",
            "=================================================================\n",
            "Total params: 951,827\n",
            "Trainable params: 951,827\n",
            "Non-trainable params: 0\n",
            "_________________________________________________________________\n"
          ]
        }
      ]
    },
    {
      "cell_type": "code",
      "metadata": {
        "colab": {
          "base_uri": "https://localhost:8080/",
          "height": 0
        },
        "id": "RbXzN34Rw8v-",
        "outputId": "ba3457bf-767f-4651-ec14-c26c6914ef21"
      },
      "source": [
        "tf.keras.utils.plot_model(model)"
      ],
      "execution_count": 33,
      "outputs": [
        {
          "output_type": "execute_result",
          "data": {
            "image/png": "[encoded data removed]",
            "text/plain": [
              "<IPython.core.display.Image object>"
            ]
          },
          "metadata": {},
          "execution_count": 33
        }
      ]
    },
    {
      "cell_type": "markdown",
      "metadata": {
        "id": "IhetQDjKxR5E"
      },
      "source": [
        "## Train Model"
      ]
    },
    {
      "cell_type": "code",
      "metadata": {
        "colab": {
          "base_uri": "https://localhost:8080/"
        },
        "id": "pehP4UJ9yDb-",
        "outputId": "918d2f95-fb48-4fec-faab-5c5d4e809352"
      },
      "source": [
        "X_train.shape, y_train.shape, X_test.shape, y_test.shape"
      ],
      "execution_count": 34,
      "outputs": [
        {
          "output_type": "execute_result",
          "data": {
            "text/plain": [
              "((31977, 286), (31977,), (3554, 286), (3554,))"
            ]
          },
          "metadata": {},
          "execution_count": 34
        }
      ]
    },
    {
      "cell_type": "code",
      "metadata": {
        "id": "LajnUagTzJpd"
      },
      "source": [
        "from tensorflow.keras.utils import to_categorical\n",
        "\n",
        "y_train = to_categorical(y_train, 3)\n",
        "y_test = to_categorical(y_test, 3)"
      ],
      "execution_count": 35,
      "outputs": []
    },
    {
      "cell_type": "code",
      "metadata": {
        "colab": {
          "base_uri": "https://localhost:8080/"
        },
        "id": "cJEvgSz4xKVm",
        "outputId": "b7837357-7d6c-4301-87cf-19e9896fc83b"
      },
      "source": [
        "history = model.fit(X_train, \n",
        "                    y_train, \n",
        "                    epochs=10,\n",
        "                    validation_data=(X_test, y_test),\n",
        "                    callbacks=[early_stoppping], \n",
        "                    verbose=1)"
      ],
      "execution_count": 36,
      "outputs": [
        {
          "output_type": "stream",
          "name": "stdout",
          "text": [
            "Epoch 1/10\n",
            "1000/1000 [==============================] - 143s 135ms/step - loss: 0.9170 - accuracy: 0.5522 - val_loss: 0.7239 - val_accuracy: 0.7079\n",
            "Epoch 2/10\n",
            "1000/1000 [==============================] - 134s 134ms/step - loss: 0.6276 - accuracy: 0.7666 - val_loss: 0.6316 - val_accuracy: 0.7651\n",
            "Epoch 3/10\n",
            "1000/1000 [==============================] - 134s 134ms/step - loss: 0.4731 - accuracy: 0.8301 - val_loss: 0.5154 - val_accuracy: 0.8140\n",
            "Epoch 4/10\n",
            "1000/1000 [==============================] - 134s 134ms/step - loss: 0.3130 - accuracy: 0.8977 - val_loss: 0.5045 - val_accuracy: 0.8298\n",
            "Epoch 5/10\n",
            "1000/1000 [==============================] - 134s 134ms/step - loss: 0.2315 - accuracy: 0.9281 - val_loss: 0.5385 - val_accuracy: 0.8354\n",
            "Epoch 6/10\n",
            "1000/1000 [==============================] - 133s 133ms/step - loss: 0.1671 - accuracy: 0.9501 - val_loss: 0.5855 - val_accuracy: 0.8427\n",
            "Epoch 7/10\n",
            "1000/1000 [==============================] - 134s 134ms/step - loss: 0.1286 - accuracy: 0.9602 - val_loss: 0.6728 - val_accuracy: 0.8444\n",
            "Restoring model weights from the end of the best epoch.\n",
            "Epoch 00007: early stopping\n"
          ]
        }
      ]
    },
    {
      "cell_type": "code",
      "metadata": {
        "colab": {
          "base_uri": "https://localhost:8080/",
          "height": 266
        },
        "id": "jfsinTvp-0El",
        "outputId": "215ba5c3-11a4-4fbd-93a4-7ee7281561ca"
      },
      "source": [
        "history_df = pd.DataFrame(history.history)\n",
        "\n",
        "history_df"
      ],
      "execution_count": 37,
      "outputs": [
        {
          "output_type": "execute_result",
          "data": {
            "text/html": [
              "<div>\n",
              "<style scoped>\n",
              "    .dataframe tbody tr th:only-of-type {\n",
              "        vertical-align: middle;\n",
              "    }\n",
              "\n",
              "    .dataframe tbody tr th {\n",
              "        vertical-align: top;\n",
              "    }\n",
              "\n",
              "    .dataframe thead th {\n",
              "        text-align: right;\n",
              "    }\n",
              "</style>\n",
              "<table border=\"1\" class=\"dataframe\">\n",
              "  <thead>\n",
              "    <tr style=\"text-align: right;\">\n",
              "      <th></th>\n",
              "      <th>loss</th>\n",
              "      <th>accuracy</th>\n",
              "      <th>val_loss</th>\n",
              "      <th>val_accuracy</th>\n",
              "    </tr>\n",
              "  </thead>\n",
              "  <tbody>\n",
              "    <tr>\n",
              "      <th>0</th>\n",
              "      <td>0.916961</td>\n",
              "      <td>0.552209</td>\n",
              "      <td>0.723853</td>\n",
              "      <td>0.707935</td>\n",
              "    </tr>\n",
              "    <tr>\n",
              "      <th>1</th>\n",
              "      <td>0.627643</td>\n",
              "      <td>0.766582</td>\n",
              "      <td>0.631616</td>\n",
              "      <td>0.765053</td>\n",
              "    </tr>\n",
              "    <tr>\n",
              "      <th>2</th>\n",
              "      <td>0.473090</td>\n",
              "      <td>0.830128</td>\n",
              "      <td>0.515400</td>\n",
              "      <td>0.814012</td>\n",
              "    </tr>\n",
              "    <tr>\n",
              "      <th>3</th>\n",
              "      <td>0.313010</td>\n",
              "      <td>0.897708</td>\n",
              "      <td>0.504476</td>\n",
              "      <td>0.829769</td>\n",
              "    </tr>\n",
              "    <tr>\n",
              "      <th>4</th>\n",
              "      <td>0.231521</td>\n",
              "      <td>0.928136</td>\n",
              "      <td>0.538524</td>\n",
              "      <td>0.835397</td>\n",
              "    </tr>\n",
              "    <tr>\n",
              "      <th>5</th>\n",
              "      <td>0.167125</td>\n",
              "      <td>0.950089</td>\n",
              "      <td>0.585513</td>\n",
              "      <td>0.842712</td>\n",
              "    </tr>\n",
              "    <tr>\n",
              "      <th>6</th>\n",
              "      <td>0.128638</td>\n",
              "      <td>0.960221</td>\n",
              "      <td>0.672807</td>\n",
              "      <td>0.844401</td>\n",
              "    </tr>\n",
              "  </tbody>\n",
              "</table>\n",
              "</div>"
            ],
            "text/plain": [
              "       loss  accuracy  val_loss  val_accuracy\n",
              "0  0.916961  0.552209  0.723853      0.707935\n",
              "1  0.627643  0.766582  0.631616      0.765053\n",
              "2  0.473090  0.830128  0.515400      0.814012\n",
              "3  0.313010  0.897708  0.504476      0.829769\n",
              "4  0.231521  0.928136  0.538524      0.835397\n",
              "5  0.167125  0.950089  0.585513      0.842712\n",
              "6  0.128638  0.960221  0.672807      0.844401"
            ]
          },
          "metadata": {},
          "execution_count": 37
        }
      ]
    },
    {
      "cell_type": "code",
      "metadata": {
        "id": "DAkcGc-3_Ew7"
      },
      "source": [
        "acc = history_df.accuracy\n",
        "loss = history_df.loss\n",
        "\n",
        "val_acc = history_df.val_accuracy\n",
        "val_loss = history_df.val_loss"
      ],
      "execution_count": 38,
      "outputs": []
    },
    {
      "cell_type": "markdown",
      "metadata": {
        "id": "nlGl4P_8_V58"
      },
      "source": [
        "## Visualizing results"
      ]
    },
    {
      "cell_type": "code",
      "metadata": {
        "colab": {
          "base_uri": "https://localhost:8080/",
          "height": 336
        },
        "id": "YTO_2Mn4_U5X",
        "outputId": "c74a3a99-92fd-4f30-f834-aec89f76e471"
      },
      "source": [
        "plt.figure(figsize=(8, 5))\n",
        "\n",
        "plt.plot(acc)\n",
        "plt.plot(val_acc)\n",
        "\n",
        "plt.legend(['accuracy', 'val_accuracy'])\n",
        "plt.title('Accuracy Score')\n",
        "\n",
        "plt.show()"
      ],
      "execution_count": 39,
      "outputs": [
        {
          "output_type": "display_data",
          "data": {
            "image/png": "[encoded data removed]",
            "text/plain": [
              "<Figure size 576x360 with 1 Axes>"
            ]
          },
          "metadata": {
            "needs_background": "light"
          }
        }
      ]
    },
    {
      "cell_type": "code",
      "metadata": {
        "colab": {
          "base_uri": "https://localhost:8080/",
          "height": 336
        },
        "id": "gpz9_Js9_2nQ",
        "outputId": "8e439bc7-0921-40c1-8843-cdaebf4e67ac"
      },
      "source": [
        "plt.figure(figsize=(8, 5))\n",
        "\n",
        "plt.plot(loss)\n",
        "plt.plot(val_loss)\n",
        "\n",
        "plt.legend(['loss', 'val_loss'])\n",
        "plt.title('Loss Reduction')\n",
        "\n",
        "plt.show()"
      ],
      "execution_count": 40,
      "outputs": [
        {
          "output_type": "display_data",
          "data": {
            "image/png": "[encoded data removed]",
            "text/plain": [
              "<Figure size 576x360 with 1 Axes>"
            ]
          },
          "metadata": {
            "needs_background": "light"
          }
        }
      ]
    },
    {
      "cell_type": "markdown",
      "metadata": {
        "id": "JYObCVeJAKuj"
      },
      "source": [
        "## Saving Model"
      ]
    },
    {
      "cell_type": "code",
      "metadata": {
        "id": "n5qUtM5CLshe"
      },
      "source": [
        "tf.keras.models.save_model(model,'corona_nlp.hdf5')"
      ],
      "execution_count": 42,
      "outputs": []
    }
  ]
}